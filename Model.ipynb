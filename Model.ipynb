{
 "cells": [
  {
   "cell_type": "code",
   "execution_count": 1,
   "id": "strong-panama",
   "metadata": {},
   "outputs": [],
   "source": [
    "import pandas as pd\n",
    "import matplotlib.pyplot as plt\n",
    "\n",
    "pd.set_option('display.max_columns', 200)"
   ]
  },
  {
   "cell_type": "code",
   "execution_count": 2,
   "id": "challenging-arthritis",
   "metadata": {},
   "outputs": [
    {
     "data": {
      "text/html": [
       "<div>\n",
       "<style scoped>\n",
       "    .dataframe tbody tr th:only-of-type {\n",
       "        vertical-align: middle;\n",
       "    }\n",
       "\n",
       "    .dataframe tbody tr th {\n",
       "        vertical-align: top;\n",
       "    }\n",
       "\n",
       "    .dataframe thead th {\n",
       "        text-align: right;\n",
       "    }\n",
       "</style>\n",
       "<table border=\"1\" class=\"dataframe\">\n",
       "  <thead>\n",
       "    <tr style=\"text-align: right;\">\n",
       "      <th></th>\n",
       "      <th>InPlay</th>\n",
       "      <th>Velo</th>\n",
       "      <th>SpinRate</th>\n",
       "      <th>HorzBreak</th>\n",
       "      <th>InducedVertBreak</th>\n",
       "    </tr>\n",
       "  </thead>\n",
       "  <tbody>\n",
       "    <tr>\n",
       "      <th>0</th>\n",
       "      <td>0</td>\n",
       "      <td>95.33</td>\n",
       "      <td>2893.0</td>\n",
       "      <td>10.68</td>\n",
       "      <td>21.33</td>\n",
       "    </tr>\n",
       "    <tr>\n",
       "      <th>1</th>\n",
       "      <td>0</td>\n",
       "      <td>94.41</td>\n",
       "      <td>2038.0</td>\n",
       "      <td>17.13</td>\n",
       "      <td>5.77</td>\n",
       "    </tr>\n",
       "    <tr>\n",
       "      <th>2</th>\n",
       "      <td>0</td>\n",
       "      <td>90.48</td>\n",
       "      <td>2183.0</td>\n",
       "      <td>6.61</td>\n",
       "      <td>15.39</td>\n",
       "    </tr>\n",
       "    <tr>\n",
       "      <th>3</th>\n",
       "      <td>0</td>\n",
       "      <td>93.04</td>\n",
       "      <td>2279.0</td>\n",
       "      <td>9.33</td>\n",
       "      <td>14.57</td>\n",
       "    </tr>\n",
       "    <tr>\n",
       "      <th>4</th>\n",
       "      <td>0</td>\n",
       "      <td>95.17</td>\n",
       "      <td>2384.0</td>\n",
       "      <td>6.99</td>\n",
       "      <td>17.62</td>\n",
       "    </tr>\n",
       "  </tbody>\n",
       "</table>\n",
       "</div>"
      ],
      "text/plain": [
       "   InPlay   Velo  SpinRate  HorzBreak  InducedVertBreak\n",
       "0       0  95.33    2893.0      10.68             21.33\n",
       "1       0  94.41    2038.0      17.13              5.77\n",
       "2       0  90.48    2183.0       6.61             15.39\n",
       "3       0  93.04    2279.0       9.33             14.57\n",
       "4       0  95.17    2384.0       6.99             17.62"
      ]
     },
     "execution_count": 2,
     "metadata": {},
     "output_type": "execute_result"
    }
   ],
   "source": [
    "# Reading the CSV file\n",
    "df = pd.read_csv('training.csv')\n",
    "\n",
    "# Displaying the first few rows of the DataFrame to understand the structure and columns\n",
    "df.head()"
   ]
  },
  {
   "cell_type": "markdown",
   "id": "worst-grade",
   "metadata": {},
   "source": [
    "# Basic Information"
   ]
  },
  {
   "cell_type": "code",
   "execution_count": 3,
   "id": "fifty-speaking",
   "metadata": {},
   "outputs": [
    {
     "data": {
      "text/html": [
       "<div>\n",
       "<style scoped>\n",
       "    .dataframe tbody tr th:only-of-type {\n",
       "        vertical-align: middle;\n",
       "    }\n",
       "\n",
       "    .dataframe tbody tr th {\n",
       "        vertical-align: top;\n",
       "    }\n",
       "\n",
       "    .dataframe thead th {\n",
       "        text-align: right;\n",
       "    }\n",
       "</style>\n",
       "<table border=\"1\" class=\"dataframe\">\n",
       "  <thead>\n",
       "    <tr style=\"text-align: right;\">\n",
       "      <th></th>\n",
       "      <th>InPlay</th>\n",
       "      <th>Velo</th>\n",
       "      <th>SpinRate</th>\n",
       "      <th>HorzBreak</th>\n",
       "      <th>InducedVertBreak</th>\n",
       "    </tr>\n",
       "  </thead>\n",
       "  <tbody>\n",
       "    <tr>\n",
       "      <th>count</th>\n",
       "      <td>10000.000000</td>\n",
       "      <td>10000.000000</td>\n",
       "      <td>9994.000000</td>\n",
       "      <td>10000.000000</td>\n",
       "      <td>10000.000000</td>\n",
       "    </tr>\n",
       "    <tr>\n",
       "      <th>mean</th>\n",
       "      <td>0.271700</td>\n",
       "      <td>93.957429</td>\n",
       "      <td>2238.952471</td>\n",
       "      <td>9.549388</td>\n",
       "      <td>14.173489</td>\n",
       "    </tr>\n",
       "    <tr>\n",
       "      <th>std</th>\n",
       "      <td>0.444858</td>\n",
       "      <td>2.683740</td>\n",
       "      <td>196.041323</td>\n",
       "      <td>5.051887</td>\n",
       "      <td>4.607593</td>\n",
       "    </tr>\n",
       "    <tr>\n",
       "      <th>min</th>\n",
       "      <td>0.000000</td>\n",
       "      <td>59.760000</td>\n",
       "      <td>770.000000</td>\n",
       "      <td>-6.270000</td>\n",
       "      <td>-6.820000</td>\n",
       "    </tr>\n",
       "    <tr>\n",
       "      <th>25%</th>\n",
       "      <td>0.000000</td>\n",
       "      <td>92.540000</td>\n",
       "      <td>2107.000000</td>\n",
       "      <td>5.730000</td>\n",
       "      <td>11.360000</td>\n",
       "    </tr>\n",
       "    <tr>\n",
       "      <th>50%</th>\n",
       "      <td>0.000000</td>\n",
       "      <td>94.100000</td>\n",
       "      <td>2241.000000</td>\n",
       "      <td>9.430000</td>\n",
       "      <td>15.160000</td>\n",
       "    </tr>\n",
       "    <tr>\n",
       "      <th>75%</th>\n",
       "      <td>1.000000</td>\n",
       "      <td>95.660000</td>\n",
       "      <td>2367.000000</td>\n",
       "      <td>13.600000</td>\n",
       "      <td>17.630000</td>\n",
       "    </tr>\n",
       "    <tr>\n",
       "      <th>max</th>\n",
       "      <td>1.000000</td>\n",
       "      <td>102.040000</td>\n",
       "      <td>3061.000000</td>\n",
       "      <td>28.040000</td>\n",
       "      <td>24.860000</td>\n",
       "    </tr>\n",
       "  </tbody>\n",
       "</table>\n",
       "</div>"
      ],
      "text/plain": [
       "             InPlay          Velo     SpinRate     HorzBreak  InducedVertBreak\n",
       "count  10000.000000  10000.000000  9994.000000  10000.000000      10000.000000\n",
       "mean       0.271700     93.957429  2238.952471      9.549388         14.173489\n",
       "std        0.444858      2.683740   196.041323      5.051887          4.607593\n",
       "min        0.000000     59.760000   770.000000     -6.270000         -6.820000\n",
       "25%        0.000000     92.540000  2107.000000      5.730000         11.360000\n",
       "50%        0.000000     94.100000  2241.000000      9.430000         15.160000\n",
       "75%        1.000000     95.660000  2367.000000     13.600000         17.630000\n",
       "max        1.000000    102.040000  3061.000000     28.040000         24.860000"
      ]
     },
     "execution_count": 3,
     "metadata": {},
     "output_type": "execute_result"
    }
   ],
   "source": [
    "# Calculating basic statistical measures for each column\n",
    "df.describe()"
   ]
  },
  {
   "cell_type": "markdown",
   "id": "golden-contemporary",
   "metadata": {},
   "source": [
    "# Data Preprocessing"
   ]
  },
  {
   "cell_type": "code",
   "execution_count": 4,
   "id": "square-ultimate",
   "metadata": {},
   "outputs": [
    {
     "data": {
      "text/plain": [
       "InPlay              0\n",
       "Velo                0\n",
       "SpinRate            6\n",
       "HorzBreak           0\n",
       "InducedVertBreak    0\n",
       "dtype: int64"
      ]
     },
     "execution_count": 4,
     "metadata": {},
     "output_type": "execute_result"
    }
   ],
   "source": [
    "# Checking for missing values in the dataset\n",
    "missing_values_count = df.isnull().sum()\n",
    "missing_values_count"
   ]
  },
  {
   "cell_type": "code",
   "execution_count": 5,
   "id": "thrown-purse",
   "metadata": {},
   "outputs": [
    {
     "data": {
      "text/html": [
       "<div>\n",
       "<style scoped>\n",
       "    .dataframe tbody tr th:only-of-type {\n",
       "        vertical-align: middle;\n",
       "    }\n",
       "\n",
       "    .dataframe tbody tr th {\n",
       "        vertical-align: top;\n",
       "    }\n",
       "\n",
       "    .dataframe thead th {\n",
       "        text-align: right;\n",
       "    }\n",
       "</style>\n",
       "<table border=\"1\" class=\"dataframe\">\n",
       "  <thead>\n",
       "    <tr style=\"text-align: right;\">\n",
       "      <th></th>\n",
       "      <th>InPlay</th>\n",
       "      <th>Velo</th>\n",
       "      <th>SpinRate</th>\n",
       "      <th>HorzBreak</th>\n",
       "      <th>InducedVertBreak</th>\n",
       "    </tr>\n",
       "  </thead>\n",
       "  <tbody>\n",
       "    <tr>\n",
       "      <th>612</th>\n",
       "      <td>1</td>\n",
       "      <td>94.28</td>\n",
       "      <td>NaN</td>\n",
       "      <td>13.53</td>\n",
       "      <td>14.86</td>\n",
       "    </tr>\n",
       "    <tr>\n",
       "      <th>1890</th>\n",
       "      <td>0</td>\n",
       "      <td>91.40</td>\n",
       "      <td>NaN</td>\n",
       "      <td>16.39</td>\n",
       "      <td>-0.97</td>\n",
       "    </tr>\n",
       "    <tr>\n",
       "      <th>3619</th>\n",
       "      <td>0</td>\n",
       "      <td>95.97</td>\n",
       "      <td>NaN</td>\n",
       "      <td>13.74</td>\n",
       "      <td>17.66</td>\n",
       "    </tr>\n",
       "    <tr>\n",
       "      <th>5282</th>\n",
       "      <td>0</td>\n",
       "      <td>94.70</td>\n",
       "      <td>NaN</td>\n",
       "      <td>8.13</td>\n",
       "      <td>10.93</td>\n",
       "    </tr>\n",
       "    <tr>\n",
       "      <th>8611</th>\n",
       "      <td>0</td>\n",
       "      <td>92.37</td>\n",
       "      <td>NaN</td>\n",
       "      <td>11.63</td>\n",
       "      <td>15.63</td>\n",
       "    </tr>\n",
       "    <tr>\n",
       "      <th>9007</th>\n",
       "      <td>0</td>\n",
       "      <td>93.31</td>\n",
       "      <td>NaN</td>\n",
       "      <td>15.89</td>\n",
       "      <td>2.20</td>\n",
       "    </tr>\n",
       "  </tbody>\n",
       "</table>\n",
       "</div>"
      ],
      "text/plain": [
       "      InPlay   Velo  SpinRate  HorzBreak  InducedVertBreak\n",
       "612        1  94.28       NaN      13.53             14.86\n",
       "1890       0  91.40       NaN      16.39             -0.97\n",
       "3619       0  95.97       NaN      13.74             17.66\n",
       "5282       0  94.70       NaN       8.13             10.93\n",
       "8611       0  92.37       NaN      11.63             15.63\n",
       "9007       0  93.31       NaN      15.89              2.20"
      ]
     },
     "execution_count": 5,
     "metadata": {},
     "output_type": "execute_result"
    }
   ],
   "source": [
    "# Identify the rows where 'SpinRate' was missing in the original dataset\n",
    "missing_spinrate_rows = df[df['SpinRate'].isnull()]\n",
    "\n",
    "missing_spinrate_rows"
   ]
  },
  {
   "cell_type": "code",
   "execution_count": 6,
   "id": "excessive-discretion",
   "metadata": {
    "scrolled": false
   },
   "outputs": [
    {
     "data": {
      "image/png": "[encoded data removed]",
      "text/plain": [
       "<Figure size 720x432 with 1 Axes>"
      ]
     },
     "metadata": {
      "needs_background": "light"
     },
     "output_type": "display_data"
    }
   ],
   "source": [
    "# Create a scatter plot for HorzBreak and InducedVertBreak\n",
    "plt.figure(figsize=(10, 6))\n",
    "plt.scatter(df['HorzBreak'], df['InducedVertBreak'], alpha=0.5)\n",
    "plt.xlabel('HorzBreak')\n",
    "plt.ylabel('InducedVertBreak')\n",
    "plt.title('Scatter Plot of HorzBreak vs InducedVertBreak')\n",
    "plt.grid(True)\n",
    "plt.show()"
   ]
  },
  {
   "cell_type": "code",
   "execution_count": 7,
   "id": "intellectual-winter",
   "metadata": {},
   "outputs": [
    {
     "data": {
      "text/plain": [
       "Velo                0\n",
       "HorzBreak           0\n",
       "InducedVertBreak    0\n",
       "SpinRate            0\n",
       "dtype: int64"
      ]
     },
     "execution_count": 7,
     "metadata": {},
     "output_type": "execute_result"
    }
   ],
   "source": [
    "from sklearn.impute import KNNImputer\n",
    "\n",
    "# Create a DataFrame containing only the relevant features and target for imputation\n",
    "df_for_imputation = df[['Velo', 'HorzBreak', 'InducedVertBreak', 'SpinRate']]\n",
    "\n",
    "# Initialize KNNImputer with k=5\n",
    "imputer = KNNImputer(n_neighbors=5)\n",
    "\n",
    "# Apply the imputer to the DataFrame\n",
    "imputed_data = pd.DataFrame(imputer.fit_transform(df_for_imputation), columns=df_for_imputation.columns)\n",
    "\n",
    "# Check if missing values are imputed\n",
    "imputed_data.isnull().sum()"
   ]
  },
  {
   "cell_type": "code",
   "execution_count": 8,
   "id": "likely-nurse",
   "metadata": {},
   "outputs": [
    {
     "data": {
      "text/html": [
       "<div>\n",
       "<style scoped>\n",
       "    .dataframe tbody tr th:only-of-type {\n",
       "        vertical-align: middle;\n",
       "    }\n",
       "\n",
       "    .dataframe tbody tr th {\n",
       "        vertical-align: top;\n",
       "    }\n",
       "\n",
       "    .dataframe thead th {\n",
       "        text-align: right;\n",
       "    }\n",
       "</style>\n",
       "<table border=\"1\" class=\"dataframe\">\n",
       "  <thead>\n",
       "    <tr style=\"text-align: right;\">\n",
       "      <th></th>\n",
       "      <th>Velo</th>\n",
       "      <th>HorzBreak</th>\n",
       "      <th>InducedVertBreak</th>\n",
       "      <th>SpinRate</th>\n",
       "    </tr>\n",
       "  </thead>\n",
       "  <tbody>\n",
       "    <tr>\n",
       "      <th>612</th>\n",
       "      <td>94.28</td>\n",
       "      <td>13.53</td>\n",
       "      <td>14.86</td>\n",
       "      <td>2361.4</td>\n",
       "    </tr>\n",
       "    <tr>\n",
       "      <th>1890</th>\n",
       "      <td>91.40</td>\n",
       "      <td>16.39</td>\n",
       "      <td>-0.97</td>\n",
       "      <td>1912.6</td>\n",
       "    </tr>\n",
       "    <tr>\n",
       "      <th>3619</th>\n",
       "      <td>95.97</td>\n",
       "      <td>13.74</td>\n",
       "      <td>17.66</td>\n",
       "      <td>2414.8</td>\n",
       "    </tr>\n",
       "    <tr>\n",
       "      <th>5282</th>\n",
       "      <td>94.70</td>\n",
       "      <td>8.13</td>\n",
       "      <td>10.93</td>\n",
       "      <td>2128.6</td>\n",
       "    </tr>\n",
       "    <tr>\n",
       "      <th>8611</th>\n",
       "      <td>92.37</td>\n",
       "      <td>11.63</td>\n",
       "      <td>15.63</td>\n",
       "      <td>2183.0</td>\n",
       "    </tr>\n",
       "    <tr>\n",
       "      <th>9007</th>\n",
       "      <td>93.31</td>\n",
       "      <td>15.89</td>\n",
       "      <td>2.20</td>\n",
       "      <td>1980.2</td>\n",
       "    </tr>\n",
       "  </tbody>\n",
       "</table>\n",
       "</div>"
      ],
      "text/plain": [
       "       Velo  HorzBreak  InducedVertBreak  SpinRate\n",
       "612   94.28      13.53             14.86    2361.4\n",
       "1890  91.40      16.39             -0.97    1912.6\n",
       "3619  95.97      13.74             17.66    2414.8\n",
       "5282  94.70       8.13             10.93    2128.6\n",
       "8611  92.37      11.63             15.63    2183.0\n",
       "9007  93.31      15.89              2.20    1980.2"
      ]
     },
     "execution_count": 8,
     "metadata": {},
     "output_type": "execute_result"
    }
   ],
   "source": [
    "# Retrieve the imputed rows for which 'SpinRate' was missing\n",
    "imputed_rows = imputed_data.loc[missing_spinrate_rows.index]\n",
    "\n",
    "# Display the imputed rows\n",
    "imputed_rows"
   ]
  },
  {
   "cell_type": "code",
   "execution_count": 9,
   "id": "false-bumper",
   "metadata": {},
   "outputs": [
    {
     "name": "stdout",
     "output_type": "stream",
     "text": [
      "Before:\n",
      " count    9994.000000\n",
      "mean     2238.952471\n",
      "std       196.041323\n",
      "min       770.000000\n",
      "25%      2107.000000\n",
      "50%      2241.000000\n",
      "75%      2367.000000\n",
      "max      3061.000000\n",
      "Name: SpinRate, dtype: float64\n",
      "\n",
      "After:\n",
      " count    10000.000000\n",
      "mean      2238.907160\n",
      "std        196.042361\n",
      "min        770.000000\n",
      "25%       2107.000000\n",
      "50%       2241.000000\n",
      "75%       2367.000000\n",
      "max       3061.000000\n",
      "Name: SpinRate, dtype: float64\n"
     ]
    }
   ],
   "source": [
    "# Replace the missing 'SpinRate' values in a copy of the original df DataFrame and name it df_imputed\n",
    "df_imputed = df.copy()\n",
    "df_imputed.loc[df['SpinRate'].isnull(), 'SpinRate'] = imputed_rows['SpinRate']\n",
    "\n",
    "# Recalculate basic statistical measures for the 'SpinRate' column after imputation\n",
    "spinrate_stats_before = df['SpinRate'].describe()\n",
    "spinrate_stats_after = df_imputed['SpinRate'].describe()\n",
    "\n",
    "print('Before:\\n', spinrate_stats_before)\n",
    "print('\\nAfter:\\n', spinrate_stats_after)"
   ]
  },
  {
   "cell_type": "markdown",
   "id": "comfortable-monroe",
   "metadata": {},
   "source": [
    "# Modeling"
   ]
  },
  {
   "cell_type": "code",
   "execution_count": 10,
   "id": "personal-spread",
   "metadata": {},
   "outputs": [],
   "source": [
    "from sklearn.model_selection import train_test_split\n",
    "\n",
    "# Features and target variable\n",
    "features = ['Velo', 'SpinRate', 'HorzBreak', 'InducedVertBreak']\n",
    "target = 'InPlay'\n",
    "\n",
    "# Split the data into training and test sets\n",
    "X = df_imputed[features]\n",
    "y = df_imputed[target]\n",
    "X_train, X_test, y_train, y_test = train_test_split(X, y, test_size=0.2, random_state=42)"
   ]
  },
  {
   "cell_type": "code",
   "execution_count": 11,
   "id": "standing-crime",
   "metadata": {},
   "outputs": [
    {
     "data": {
      "text/plain": [
       "(0.7315,\n",
       " array([[1463,    0],\n",
       "        [ 537,    0]]),\n",
       " 0.7175,\n",
       " array([[1388,   75],\n",
       "        [ 490,   47]]),\n",
       " 0.7315,\n",
       " array([[1463,    0],\n",
       "        [ 537,    0]]))"
      ]
     },
     "execution_count": 11,
     "metadata": {},
     "output_type": "execute_result"
    }
   ],
   "source": [
    "from sklearn.linear_model import LogisticRegression\n",
    "from sklearn.ensemble import RandomForestClassifier\n",
    "from sklearn.svm import SVC\n",
    "from sklearn.metrics import accuracy_score, confusion_matrix\n",
    "\n",
    "# Initialize and train the logistic regression model\n",
    "logistic_model = LogisticRegression(random_state=42)\n",
    "logistic_model.fit(X_train, y_train)\n",
    "\n",
    "# Make predictions on the test set\n",
    "y_pred_lr = logistic_model.predict(X_test)\n",
    "\n",
    "# Evaluate the model\n",
    "accuracy_lr = accuracy_score(y_test, y_pred_lr)\n",
    "conf_matrix_lr = confusion_matrix(y_test, y_pred_lr)\n",
    "\n",
    "# Initialize and train the Random Forest model\n",
    "rf_model = RandomForestClassifier(random_state=42)\n",
    "rf_model.fit(X_train, y_train)\n",
    "\n",
    "# Make predictions on the test set\n",
    "y_pred_rf = rf_model.predict(X_test)\n",
    "\n",
    "# Evaluate the model\n",
    "accuracy_rf = accuracy_score(y_test, y_pred_rf)\n",
    "conf_matrix_rf = confusion_matrix(y_test, y_pred_rf)\n",
    "\n",
    "# Initialize and train the SVM model\n",
    "svm_model = SVC(probability=True, random_state=42)\n",
    "svm_model.fit(X_train, y_train)\n",
    "\n",
    "# Make predictions on the test set\n",
    "y_pred_svm = svm_model.predict(X_test)\n",
    "\n",
    "# Evaluate the model\n",
    "accuracy_svm = accuracy_score(y_test, y_pred_svm)\n",
    "conf_matrix_svm = confusion_matrix(y_test, y_pred_svm)\n",
    "\n",
    "accuracy_lr, conf_matrix_lr, accuracy_rf, conf_matrix_rf, accuracy_svm, conf_matrix_svm"
   ]
  },
  {
   "cell_type": "code",
   "execution_count": 12,
   "id": "accurate-buying",
   "metadata": {},
   "outputs": [],
   "source": [
    "# Manually balancing the classes by oversampling the minority class\n",
    "from sklearn.utils import resample\n",
    "\n",
    "# Separate the majority and minority classes\n",
    "df_majority = df_imputed[df_imputed.InPlay == 0]\n",
    "df_minority = df_imputed[df_imputed.InPlay == 1]\n",
    "\n",
    "# Oversample the minority class\n",
    "df_minority_oversampled=resample(df_minority, replace=True, n_samples=len(df_majority), random_state=42)\n",
    "\n",
    "# Combine majority class with oversampled minority class\n",
    "df_oversampled = pd.concat([df_majority, df_minority_oversampled])\n",
    "\n",
    "# New target and features\n",
    "X_oversampled = df_oversampled[features]\n",
    "y_oversampled = df_oversampled[target]\n",
    "\n",
    "# Split the oversampled data into training and test sets\n",
    "X_train_os, X_test_os, y_train_os, y_test_os = train_test_split(X_oversampled, y_oversampled, test_size=0.2, random_state=42)"
   ]
  },
  {
   "cell_type": "code",
   "execution_count": null,
   "id": "secure-relief",
   "metadata": {},
   "outputs": [],
   "source": [
    "# Retrain the Logistic Regression model with oversampled data\n",
    "lr_model_os = LogisticRegression(random_state=42)\n",
    "lr_model_os.fit(X_train_os, y_train_os)\n",
    "\n",
    "# Make predictions on the test set\n",
    "y_pred_lr_os = lr_model_os.predict(X_test_os)\n",
    "\n",
    "# Evaluate the model\n",
    "accuracy_lr_os = accuracy_score(y_test_os, y_pred_lr_os)\n",
    "conf_matrix_lr_os = confusion_matrix(y_test_os, y_pred_lr_os)\n",
    "\n",
    "# Retrain the Random Forest model with the oversampled data\n",
    "rf_model_os = RandomForestClassifier(random_state=42)\n",
    "rf_model_os.fit(X_train_os, y_train_os)\n",
    "\n",
    "# Make predictions on the test set\n",
    "y_pred_rf_os = rf_model_os.predict(X_test_os)\n",
    "\n",
    "# Evaluate the model\n",
    "accuracy_rf_os = accuracy_score(y_test_os, y_pred_rf_os)\n",
    "conf_matrix_rf_os = confusion_matrix(y_test_os, y_pred_rf_os)\n",
    "\n",
    "# Retrain the SVM model with the oversampled data\n",
    "svm_model_os = SVC(probability=True, random_state=42)\n",
    "svm_model_os.fit(X_train_os, y_train_os)\n",
    "\n",
    "# Make predictions on the test set\n",
    "y_pred_svm_os = svm_model_os.predict(X_test_os)\n",
    "\n",
    "# Evaluate the model\n",
    "accuracy_svm_os = accuracy_score(y_test_os, y_pred_svm_os)\n",
    "conf_matrix_svm_os = confusion_matrix(y_test_os, y_pred_svm_os)\n",
    "\n",
    "accuracy_lr_os, conf_matrix_lr_os, accuracy_rf_os, conf_matrix_rf_os, accuracy_svm_os, conf_matrix_svm_os"
   ]
  },
  {
   "cell_type": "markdown",
   "id": "broad-fantasy",
   "metadata": {},
   "source": [
    "# Prediction"
   ]
  },
  {
   "cell_type": "code",
   "execution_count": null,
   "id": "suffering-circus",
   "metadata": {},
   "outputs": [],
   "source": [
    "# Read the deploy.csv file\n",
    "df_deploy = pd.read_csv('deploy.csv')\n",
    "\n",
    "# Display basic statistics\n",
    "basic_stats_deploy = df_deploy.describe()\n",
    "\n",
    "# Check for missing values\n",
    "missing_values_deploy = df_deploy.isnull().sum()\n",
    "\n",
    "basic_stats_deploy, missing_values_deploy"
   ]
  },
  {
   "cell_type": "code",
   "execution_count": null,
   "id": "flexible-static",
   "metadata": {},
   "outputs": [],
   "source": [
    "# Identify the rows where 'SpinRate' was missing in the original dataset\n",
    "missing_spinrate_rows_deploy = df_deploy[df_deploy['SpinRate'].isnull()]\n",
    "\n",
    "missing_spinrate_rows_deploy"
   ]
  },
  {
   "cell_type": "code",
   "execution_count": null,
   "id": "charming-seeker",
   "metadata": {},
   "outputs": [],
   "source": [
    "from sklearn.impute import KNNImputer\n",
    "\n",
    "# Create a DataFrame containing only the relevant features and target for imputation\n",
    "df_deploy_for_imputation = df_deploy[['Velo', 'HorzBreak', 'InducedVertBreak', 'SpinRate']]\n",
    "\n",
    "# Apply the imputer to the DataFrame\n",
    "imputed_data_deploy = pd.DataFrame(imputer.fit_transform(df_deploy_for_imputation), columns=df_deploy_for_imputation.columns)\n",
    "\n",
    "# Check if missing values are imputed\n",
    "imputed_data_deploy.isnull().sum()"
   ]
  },
  {
   "cell_type": "code",
   "execution_count": null,
   "id": "premium-worthy",
   "metadata": {},
   "outputs": [],
   "source": [
    "# Retrieve the imputed rows for which 'SpinRate' was missing\n",
    "imputed_rows_deploy = imputed_data_deploy.loc[missing_spinrate_rows_deploy.index]\n",
    "\n",
    "# Display the imputed rows\n",
    "imputed_rows_deploy"
   ]
  },
  {
   "cell_type": "code",
   "execution_count": null,
   "id": "stopped-finnish",
   "metadata": {},
   "outputs": [],
   "source": [
    "# Replace the missing 'SpinRate' values in a copy of the original df DataFrame and name it df_imputed\n",
    "df_deploy_imputed = df_deploy.copy()\n",
    "df_deploy_imputed.loc[df_deploy['SpinRate'].isnull(), 'SpinRate'] = imputed_rows_deploy['SpinRate']\n",
    "\n",
    "# Recalculate basic statistical measures for the 'SpinRate' column after imputation\n",
    "spinrate_stats_before = df_deploy['SpinRate'].describe()\n",
    "spinrate_stats_after = df_deploy_imputed['SpinRate'].describe()\n",
    "\n",
    "print('Before:\\n', spinrate_stats_before)\n",
    "print('\\nAfter:\\n', spinrate_stats_after)"
   ]
  },
  {
   "cell_type": "code",
   "execution_count": null,
   "id": "occupied-victory",
   "metadata": {},
   "outputs": [],
   "source": [
    "# Select the features for prediction in deploy.csv\n",
    "X_deploy = df_deploy_imputed[features]\n",
    "\n",
    "# Use the Random Forest model trained on oversampled data to make predictions on deploy.csv\n",
    "y_deploy_pred = rf_model_os.predict_proba(X_deploy)[:, 1]\n",
    "\n",
    "# Create a submission DataFrame\n",
    "df_submission = df_deploy.assign(InPlay = y_deploy_pred)\n",
    "\n",
    "# Save the submission DataFrame to a CSV file\n",
    "df_submission.to_csv('submission.csv', index=False)\n",
    "\n",
    "df_submission"
   ]
  },
  {
   "cell_type": "code",
   "execution_count": null,
   "id": "bridal-genetics",
   "metadata": {},
   "outputs": [],
   "source": []
  }
 ],
 "metadata": {
  "kernelspec": {
   "display_name": "Python 3",
   "language": "python",
   "name": "python3"
  },
  "language_info": {
   "codemirror_mode": {
    "name": "ipython",
    "version": 3
   },
   "file_extension": ".py",
   "mimetype": "text/x-python",
   "name": "python",
   "nbconvert_exporter": "python",
   "pygments_lexer": "ipython3",
   "version": "3.9.17"
  }
 },
 "nbformat": 4,
 "nbformat_minor": 5
}
